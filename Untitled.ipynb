{
 "cells": [
  {
   "cell_type": "markdown",
   "id": "b57ff489",
   "metadata": {},
   "source": [
    " ### Check if all files are converted to aiff\n"
   ]
  },
  {
   "cell_type": "code",
   "execution_count": 1,
   "id": "b3abd0f9",
   "metadata": {},
   "outputs": [
    {
     "name": "stdout",
     "output_type": "stream",
     "text": [
      "Unconverted audio files:\n",
      "iTunes Media\\Music\\Aspis, Veroliv & Avcio\\Right Now, Wrong Then\\04 Soul Tamer (feat. Avcio).m4a\n",
      "iTunes Media\\Music\\Compilations\\A Tribe Called Kotori - Chapter 5\\08 King Cobra.m4a\n",
      "iTunes Media\\Music\\Elif\\Letting Go - Single\\01 Let Go.m4a\n",
      "iTunes Media\\Music\\GAMPER & DADONI\\Bittersweet Symphony (feat. Emily Robert\\02 Bittersweet Symphony (feat. Emily.m4a\n",
      "iTunes Media\\Music\\Parra for Cuva\\Wicked Games (feat. Anna Naklab) - Singl\\02 Wicked Games (feat. Anna Naklab).m4a\n"
     ]
    }
   ],
   "source": [
    "import os\n",
    "\n",
    "def find_unconverted_audio_files(root_directory):\n",
    "    unconverted_files = []\n",
    "\n",
    "    for root, dirs, files in os.walk(root_directory):\n",
    "        for file in files:\n",
    "            if any(file.lower().endswith(audio_ext) for audio_ext in ['.mp3', '.m4a', '.wav', '.flac']):\n",
    "                aif_file = os.path.splitext(file)[0] + '.aif'\n",
    "                aiff_file = os.path.splitext(file)[0] + '.aiff'\n",
    "\n",
    "                # Check if corresponding .aif or .aiff file exists\n",
    "                if not (os.path.exists(os.path.join(root, aif_file)) or os.path.exists(os.path.join(root, aiff_file))):\n",
    "                    unconverted_files.append(os.path.join(root, file))\n",
    "\n",
    "    return unconverted_files\n",
    "\n",
    "# Specify your root directory\n",
    "root_directory = 'iTunes Media'\n",
    "\n",
    "# Call the function to find unconverted audio files\n",
    "unconverted_files = find_unconverted_audio_files(root_directory)\n",
    "\n",
    "# Print the list of unconverted files\n",
    "if unconverted_files:\n",
    "    print(\"Unconverted audio files:\")\n",
    "    for file_path in unconverted_files:\n",
    "        print(file_path)\n",
    "else:\n",
    "    print(\"All audio files have corresponding .aif or .aiff files.\")"
   ]
  },
  {
   "cell_type": "markdown",
   "id": "b1fd27d8",
   "metadata": {},
   "source": [
    "### Copy all aiff files to another directory, skip if already exists"
   ]
  },
  {
   "cell_type": "code",
   "execution_count": 4,
   "id": "aa6be0d4",
   "metadata": {},
   "outputs": [
    {
     "name": "stdout",
     "output_type": "stream",
     "text": [
      "Skipped (already exists): 02 Please Tell Rosie (feat. YOUNOTUS.aif\n",
      "Skipped (already exists): 01 Taksim Dolmuşu.aif\n",
      "Skipped (already exists): 01 Yâr.aif\n",
      "Skipped (already exists): 02 Yâr [Ezgi Sağlık Vocal Edit].aif\n",
      "Skipped (already exists): 01 Afyon Dinarı.aif\n",
      "Skipped (already exists): 02 Nasha (feat. Aatman & Mansi).aif\n",
      "Skipped (already exists): 01 Gurbet.aif\n",
      "Skipped (already exists): 02 Bamboo Forest.aif\n",
      "Copied: 01 Hawa.aif\n",
      "Skipped (already exists): 03 Coca Cabana.aif\n",
      "Skipped (already exists): 01 Gurbet Treni.aif\n",
      "Skipped (already exists): 01 Bad and Boujee (feat. Lil Uzi Ver.aif\n",
      "Skipped (already exists): 01 Yeke Yeke.aif\n",
      "Skipped (already exists): 01 Condom.aif\n",
      "Skipped (already exists): 01 Weak (Extended).aif\n",
      "Skipped (already exists): 02 Gurbet Treni.aif\n"
     ]
    }
   ],
   "source": [
    "import os\n",
    "import shutil\n",
    "\n",
    "def copy_aif_files(source_dir, destination_dir):\n",
    "    # Ensure destination directory exists\n",
    "    if not os.path.exists(destination_dir):\n",
    "        os.makedirs(destination_dir)\n",
    "\n",
    "    # Loop through the source directory\n",
    "    for root, dirs, files in os.walk(source_dir):\n",
    "        for file in files:\n",
    "            if file.lower().endswith(('.aif', '.aiff')):\n",
    "                source_path = os.path.join(root, file)\n",
    "                destination_path = os.path.join(destination_dir, file)\n",
    "\n",
    "                # Check if the file is already copied\n",
    "                if not os.path.exists(destination_path):\n",
    "                    shutil.copy2(source_path, destination_path)\n",
    "                    print(f\"Copied: {file}\")\n",
    "                else:\n",
    "                    print(f\"Skipped (already exists): {file}\")\n",
    "\n",
    "# Specify your source and destination directories\n",
    "source_directory = 'iTunes Media'\n",
    "destination_directory = 'iTunes_Merged'\n",
    "\n",
    "# Call the function to copy .aif and .aiff files\n",
    "copy_aif_files(source_directory, destination_directory)"
   ]
  },
  {
   "cell_type": "code",
   "execution_count": null,
   "id": "29ab39d8",
   "metadata": {},
   "outputs": [],
   "source": []
  }
 ],
 "metadata": {
  "kernelspec": {
   "display_name": "Python 3 (ipykernel)",
   "language": "python",
   "name": "python3"
  },
  "language_info": {
   "codemirror_mode": {
    "name": "ipython",
    "version": 3
   },
   "file_extension": ".py",
   "mimetype": "text/x-python",
   "name": "python",
   "nbconvert_exporter": "python",
   "pygments_lexer": "ipython3",
   "version": "3.11.5"
  }
 },
 "nbformat": 4,
 "nbformat_minor": 5
}
